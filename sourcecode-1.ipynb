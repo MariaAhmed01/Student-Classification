{
 "cells": [
  {
   "cell_type": "code",
   "execution_count": null,
   "metadata": {},
   "outputs": [],
   "source": [
    "#MARIA AHMED\n",
    "#BSCS - B (FOR DEEP LEARNING)\n",
    "#20I-2451\n",
    "#DEEP LEARNING FINAL PROJECT"
   ]
  },
  {
   "cell_type": "code",
   "execution_count": 1,
   "metadata": {},
   "outputs": [],
   "source": [
    "#IMPORTS\n",
    "import pandas as pd\n",
    "import seaborn as sns\n",
    "import matplotlib.pyplot as plt\n",
    "from sklearn.model_selection import train_test_split\n",
    "import numpy as np\n",
    "import tensorflow as tf\n",
    "from tensorflow.keras import Sequential\n",
    "from tensorflow.keras.layers import LSTM, Dense, GRU, Dropout, Flatten, SimpleRNN, Bidirectional\n",
    "from sklearn.metrics import accuracy_score, precision_score, recall_score, f1_score, multilabel_confusion_matrix, confusion_matrix\n",
    "from sklearn.model_selection import train_test_split\n",
    "from keras.models import load_model\n",
    "from keras.utils import to_categorical\n",
    "from keras.regularizers import l2\n",
    "from keras.optimizers import Adam\n",
    "from keras.layers import BatchNormalization, Dropout\n",
    "from keras.callbacks import EarlyStopping\n",
    "from sklearn.model_selection import GridSearchCV\n"
   ]
  },
  {
   "cell_type": "markdown",
   "metadata": {},
   "source": [
    "Preprocessing the OULAD dataset"
   ]
  },
  {
   "cell_type": "code",
   "execution_count": 2,
   "metadata": {},
   "outputs": [],
   "source": [
    "\n",
    "class dataprep:\n",
    "\n",
    "    def load_data(self):\n",
    "        student_info = pd.read_csv(\"E:\\\\DL project\\\\anonymisedData\\\\studentInfo.csv\")\n",
    "        columns_to_remove = ['gender', 'region', 'highest_education', 'imd_band','age_band','studied_credits' ]\n",
    "        student_info = student_info.drop(columns = columns_to_remove)\n",
    "        #student_info.head()\n",
    "\n",
    "        student_assessment = pd.read_csv(\"E:\\\\DL project\\\\anonymisedData\\\\studentAssessment.csv\")\n",
    "        student_assessment = student_assessment.drop(columns = 'is_banked')\n",
    "        #student_assessment.head()\n",
    "\n",
    "        assessments = pd.read_csv(\"E:\\\\DL project\\\\anonymisedData\\\\assessments.csv\")\n",
    "        #assessment.head()\n",
    "\n",
    "        return student_assessment, student_info, assessments\n",
    "\n",
    "\n",
    "    #produces course-wise dataframes for each student's evaluations\n",
    "    def sort_data(self, course):\n",
    "        student_assessment, student_info, assessments = self.load_data()\n",
    "\n",
    "        df = pd.DataFrame()\n",
    "        df['id_student'] = student_info['id_student']\n",
    "        df['disability'] = student_info['disability']\n",
    "\n",
    "        filtered_course_result = student_info[student_info['code_module']== course]\n",
    "        results = filtered_course_result['final_result']\n",
    "        df['final_results'] = results\n",
    "\n",
    "        filtered_assessments = assessments[assessments['code_module'] == course]\n",
    "        list_assessments = filtered_assessments['id_assessment'].unique().tolist()\n",
    "        #print(list_assessments)\n",
    "\n",
    "        filtered_assessments = assessments[assessments['code_module'] == course]\n",
    "        list_presentations = filtered_assessments['code_presentation'].unique().tolist()\n",
    "        #print(list_presentations)\n",
    "\n",
    "        #drop everything but this course\n",
    "        filtered_st_assessments = student_assessment[student_assessment['id_assessment'].isin(list_assessments)]\n",
    "\n",
    "        pivoted_st_assessments = filtered_st_assessments.pivot(index='id_student', columns='id_assessment', values='score').reset_index()\n",
    "        pivoted_st_assessments.fillna(0, inplace=True)\n",
    "\n",
    "        pivoted_st_assessments.head(200)\n",
    "\n",
    "        df = pd.merge(df, pivoted_st_assessments, on='id_student', how='left')\n",
    "        df.dropna(subset=['final_results'], inplace=True)\n",
    "\n",
    "        df.fillna(0, inplace = True)\n",
    "\n",
    "        #print(df.head())\n",
    "\n",
    "        return df, list_assessments, list_presentations\n",
    "    \n",
    "    \n",
    "    def update_assessment_list(self, df):\n",
    "        column_names = df.columns.tolist()\n",
    "        assessment_cols =  column_names[3:]\n",
    "\n",
    "        return assessment_cols\n",
    "\n",
    "\n",
    "    #as the name implies, it calculates the relevant averages for each course and puts them in a dataframe for the final score and score classes\n",
    "    #def calculate_totals(self, df):\n",
    "    \n",
    "    def calculate_scores(self, course ):\n",
    "        df, list_assess, list_pres = self.sort_data(course)\n",
    "        assess_cols= self.update_assessment_list(df)\n",
    "\n",
    "        #calculate average scores for each student\n",
    "\n",
    "        df['average_score'] = df[assess_cols].mean(axis=1)\n",
    "        final_results_scores = {\"Distinction\":2,\"Pass\": 1, \"Fail\": -1, \"Withdrawn\": 0}\n",
    "        df['final_results'] = df['final_results'].map(final_results_scores)\n",
    "        disability_status = {\"Y\":1 ,\"N\":0}\n",
    "        df['disability'] = df['disability'].map(disability_status)\n",
    "\n",
    "        df['total_score'] = (0.5 * df['final_results']) + (0.3 * df['disability']) + (0.2 * df['average_score'])\n",
    "\n",
    "        #diving data into classes\n",
    "        new_score_ranges = [(-1, 2), (3, 7), (8, 12), (13, 17), (18, 21)]  \n",
    "        class_labels = [1, 2, 3, 4, 5]\n",
    "        df['score_class'] = pd.cut(df['total_score'], bins=[range[0] for range in new_score_ranges] + [max(new_score_ranges[-1])], labels= class_labels)\n",
    "\n",
    "        #dropping irrelevant columns\n",
    "        first_three_cols = df.iloc[:, :3]\n",
    "\n",
    "        # Get the last three columns\n",
    "        last_three_cols = df.iloc[:, -3:]\n",
    "\n",
    "        # Create a new DataFrame with the selected columns\n",
    "        new_df = pd.concat([first_three_cols, last_three_cols], axis=1)\n",
    "\n",
    "        return new_df\n",
    "\n",
    "        #print(new_df)\n",
    "\n",
    "\n",
    "    def create_final_dataset(self):\n",
    "        #loading courses\n",
    "        courses = pd.read_csv(\"E:\\\\DL project\\\\anonymisedData\\\\courses.csv\")\n",
    "        courses = courses.drop(columns = 'module_presentation_length')\n",
    "\n",
    "        unique_course_modules = courses['code_module'].unique()\n",
    "\n",
    "        final_df = pd.DataFrame()\n",
    "\n",
    "\n",
    "        for course_module in unique_course_modules:\n",
    "            final_df = pd.concat([final_df, self.calculate_scores(course_module)], ignore_index=True)\n",
    "\n",
    "        #print(final_df)\n",
    "\n",
    "        return final_df\n",
    "    \n",
    "    \n",
    "    \n",
    "    def visualize_data(self):\n",
    "        df = self.create_final_dataset()\n",
    "\n",
    "        class_labels = [1,2,3,4,5]\n",
    "\n",
    "        #class wise visualization\n",
    "        plt.figure(figsize=(12, 8))\n",
    "        sns.boxplot(x='score_class', y='average_score', data=df, order=class_labels)\n",
    "        plt.title('Distribution of Average Scores in Each Class')\n",
    "        plt.xlabel('Score Class')\n",
    "        plt.ylabel('Average Score')\n",
    "        plt.show()\n",
    "\n",
    "        #histogram\n",
    "        plt.figure(figsize=(10, 6))\n",
    "        plt.hist(df['total_score'], bins=30, color='skyblue', edgecolor='black')\n",
    "        plt.title('Distribution of Final Scores')\n",
    "        plt.xlabel('Final Score')\n",
    "        plt.ylabel('Frequency')\n",
    "        plt.show()\n",
    "\n",
    "        #numeric class distribution\n",
    "        plt.figure(figsize=(10, 6))\n",
    "        plt.hist(df['total_score'], bins=5, color='lightcoral', edgecolor='black')\n",
    "        plt.title('Distribution of Final Scores (Numeric Classes)')\n",
    "        plt.xlabel('Numeric Class')\n",
    "        plt.ylabel('Frequency')\n",
    "        plt.show()\n"
   ]
  },
  {
   "cell_type": "code",
   "execution_count": 5,
   "metadata": {},
   "outputs": [],
   "source": [
    "#creating the final dataset\n",
    "\n",
    "data_p = dataprep()\n",
    "data = data_p.create_final_dataset()\n",
    "#data_p.visualize_data()"
   ]
  },
  {
   "cell_type": "markdown",
   "metadata": {},
   "source": [
    "Preparing data for model training- sequence creation, splitting etc"
   ]
  },
  {
   "cell_type": "code",
   "execution_count": 15,
   "metadata": {},
   "outputs": [],
   "source": [
    "def prepare_sequences(d, time_steps):\n",
    "    sequences = []\n",
    "    labels = []\n",
    "\n",
    "    for i in range(len(d) - time_steps):\n",
    "        seq = data.iloc[i:i+time_steps][['disability', 'final_results', 'average_score', 'total_score']].values\n",
    "        label = data.iloc[i+time_steps]['score_class']\n",
    "        sequences.append(seq)\n",
    "        labels.append(label)\n",
    "\n",
    "    return np.array(sequences), np.array(labels)\n",
    "\n",
    "# Set the correct column names for the labels\n",
    "time_steps = 7\n",
    "sequences, labels = prepare_sequences(data, time_steps)\n",
    "\n",
    "X_train_seq, X_test_seq, y_train_seq, y_test_seq = train_test_split(sequences, labels, test_size=0.2, random_state=42)\n",
    "\n",
    "        "
   ]
  },
  {
   "cell_type": "code",
   "execution_count": 16,
   "metadata": {},
   "outputs": [
    {
     "name": "stdout",
     "output_type": "stream",
     "text": [
      "Shape of y_train_seq: (26068, 5)\n",
      "Shape of y_train_seq: (6518, 5)\n"
     ]
    }
   ],
   "source": [
    "#one-hot encoding for the labels\n",
    "y_train_seq = to_categorical(y_train_seq, num_classes=5)\n",
    "y_test_seq = to_categorical(y_test_seq, num_classes=5)\n",
    "\n",
    "print(\"Shape of y_train_seq:\", y_train_seq.shape)\n",
    "print(\"Shape of y_train_seq:\", y_test_seq.shape)"
   ]
  },
  {
   "cell_type": "markdown",
   "metadata": {},
   "source": [
    "Simple RNN"
   ]
  },
  {
   "cell_type": "code",
   "execution_count": 17,
   "metadata": {},
   "outputs": [],
   "source": [
    "def create_and_run_RNN():\n",
    "        model = Sequential()\n",
    "        model.add(SimpleRNN(units=50, input_shape=(X_train_seq.shape[1], X_train_seq.shape[2])))\n",
    "        model.add(Dense(units= 5, activation='softmax'))\n",
    "\n",
    "        # Compile the model\n",
    "        optimizer = Adam(learning_rate=0.001)\n",
    "        model.compile(optimizer=optimizer, loss='categorical_crossentropy', metrics=['accuracy'])\n",
    "\n",
    "        history = model.fit(X_train_seq, y_train_seq, epochs=20, batch_size=32)\n",
    "\n",
    "        return history, model"
   ]
  },
  {
   "cell_type": "code",
   "execution_count": 18,
   "metadata": {},
   "outputs": [
    {
     "name": "stdout",
     "output_type": "stream",
     "text": [
      "Epoch 1/20\n",
      "815/815 [==============================] - 10s 6ms/step - loss: 0.7993 - accuracy: 0.5478\n",
      "Epoch 2/20\n",
      "815/815 [==============================] - 5s 7ms/step - loss: 0.7623 - accuracy: 0.5552\n",
      "Epoch 3/20\n",
      "815/815 [==============================] - 6s 7ms/step - loss: 0.7522 - accuracy: 0.5592\n",
      "Epoch 4/20\n",
      "815/815 [==============================] - 9s 11ms/step - loss: 0.7486 - accuracy: 0.5615\n",
      "Epoch 5/20\n",
      "815/815 [==============================] - 6s 8ms/step - loss: 0.7463 - accuracy: 0.5673\n",
      "Epoch 6/20\n",
      "815/815 [==============================] - 6s 7ms/step - loss: 0.7443 - accuracy: 0.5667\n",
      "Epoch 7/20\n",
      "815/815 [==============================] - 6s 7ms/step - loss: 0.7436 - accuracy: 0.5668\n",
      "Epoch 8/20\n",
      "815/815 [==============================] - 6s 7ms/step - loss: 0.7439 - accuracy: 0.5670\n",
      "Epoch 9/20\n",
      "815/815 [==============================] - 6s 8ms/step - loss: 0.7418 - accuracy: 0.5704\n",
      "Epoch 10/20\n",
      "815/815 [==============================] - 5s 7ms/step - loss: 0.7405 - accuracy: 0.5679\n",
      "Epoch 11/20\n",
      "815/815 [==============================] - 5s 6ms/step - loss: 0.7388 - accuracy: 0.5715\n",
      "Epoch 12/20\n",
      "815/815 [==============================] - 6s 7ms/step - loss: 0.7381 - accuracy: 0.5683\n",
      "Epoch 13/20\n",
      "815/815 [==============================] - 7s 8ms/step - loss: 0.7366 - accuracy: 0.5746\n",
      "Epoch 14/20\n",
      "815/815 [==============================] - 5s 6ms/step - loss: 0.7365 - accuracy: 0.5709\n",
      "Epoch 15/20\n",
      "815/815 [==============================] - 6s 8ms/step - loss: 0.7361 - accuracy: 0.5746\n",
      "Epoch 16/20\n",
      "815/815 [==============================] - 6s 8ms/step - loss: 0.7342 - accuracy: 0.5750\n",
      "Epoch 17/20\n",
      "815/815 [==============================] - 5s 6ms/step - loss: 0.7345 - accuracy: 0.5742\n",
      "Epoch 18/20\n",
      "815/815 [==============================] - 4s 5ms/step - loss: 0.7340 - accuracy: 0.5745\n",
      "Epoch 19/20\n",
      "815/815 [==============================] - 4s 5ms/step - loss: 0.7323 - accuracy: 0.5765\n",
      "Epoch 20/20\n",
      "815/815 [==============================] - 4s 5ms/step - loss: 0.7325 - accuracy: 0.5791\n"
     ]
    }
   ],
   "source": [
    "rnn_hist, RNN = create_and_run_RNN()\n",
    "\n"
   ]
  },
  {
   "cell_type": "code",
   "execution_count": 19,
   "metadata": {},
   "outputs": [],
   "source": [
    "#testing and evaluation\n",
    "\n",
    "def test_model(model):\n",
    "\n",
    "        y_pred = model.predict(X_test_seq)\n",
    "        print(\"Shape of y_pred:\", y_pred.shape)\n",
    "\n",
    "        return y_pred\n",
    "\n",
    "def evaluate_model(y_pred):\n",
    "         #evaluating the model\n",
    "\n",
    "        y_pred_classes = np.argmax(y_pred, axis=1)\n",
    "        y_pred_classes = to_categorical(y_pred_classes, num_classes=5)\n",
    "\n",
    "        y_test_classes = y_test_seq.astype(int)\n",
    "\n",
    "        accuracy = accuracy_score(y_test_classes, y_pred_classes)\n",
    "        print(f'Accuracy: {accuracy:.4f}')\n",
    "\n",
    "        precision = precision_score(y_test_classes, y_pred_classes, average='weighted')\n",
    "        print(f'Precision: {precision:.4f}')\n",
    "\n",
    "        recall = recall_score(y_test_classes, y_pred_classes, average='weighted')\n",
    "        print(f'Recall: {recall:.4f}')\n",
    "\n",
    "        f1 = f1_score(y_test_classes, y_pred_classes, average='weighted')\n",
    "        print(f'F1 Score: {f1:.4f}')\n",
    "\n",
    "        y_test_indices = np.argmax(y_test_classes, axis=1)\n",
    "        y_pred_indices = np.argmax(y_pred_classes, axis=1)\n",
    "\n",
    "        conf_matrix = confusion_matrix(y_test_indices, y_pred_indices)\n",
    "        plt.figure(figsize= (8,6))\n",
    "        sns.heatmap(conf_matrix, annot=True, fmt='d', cmap='Blues', cbar=False)\n",
    "        plt.xlabel('Predicted Labels')\n",
    "        plt.ylabel('True Labels')\n",
    "        plt.title('Confusion Matrix')\n",
    "        plt.show()\n"
   ]
  },
  {
   "cell_type": "code",
   "execution_count": 20,
   "metadata": {},
   "outputs": [
    {
     "name": "stdout",
     "output_type": "stream",
     "text": [
      "204/204 [==============================] - 3s 7ms/step\n",
      "Shape of y_pred: (6518, 5)\n",
      "Accuracy: 0.5592\n",
      "Precision: 0.5378\n",
      "Recall: 0.5592\n",
      "F1 Score: 0.5459\n"
     ]
    },
    {
     "name": "stderr",
     "output_type": "stream",
     "text": [
      "c:\\Users\\HP\\anaconda3\\Lib\\site-packages\\sklearn\\metrics\\_classification.py:1469: UndefinedMetricWarning: Precision is ill-defined and being set to 0.0 in labels with no predicted samples. Use `zero_division` parameter to control this behavior.\n",
      "  return result\n",
      "c:\\Users\\HP\\anaconda3\\Lib\\site-packages\\sklearn\\metrics\\_classification.py:1469: UndefinedMetricWarning: Recall is ill-defined and being set to 0.0 in labels with no true samples. Use `zero_division` parameter to control this behavior.\n",
      "  return result\n",
      "c:\\Users\\HP\\anaconda3\\Lib\\site-packages\\sklearn\\metrics\\_classification.py:1757: UndefinedMetricWarning: F-score is ill-defined and being set to 0.0 in labels with no true nor predicted samples. Use `zero_division` parameter to control this behavior.\n",
      "  # and BOTH prec and rec are ill-defined\n"
     ]
    },
    {
     "data": {
      "image/png": "[encoded data removed]",
      "text/plain": [
       "<Figure size 800x600 with 1 Axes>"
      ]
     },
     "metadata": {},
     "output_type": "display_data"
    }
   ],
   "source": [
    "y_predictions = test_model(RNN)\n",
    "evaluate_model(y_predictions)"
   ]
  },
  {
   "cell_type": "markdown",
   "metadata": {},
   "source": [
    "LSTMs"
   ]
  },
  {
   "cell_type": "code",
   "execution_count": 24,
   "metadata": {},
   "outputs": [],
   "source": [
    "def create_and_run_LSTM():\n",
    "        # Define the LSTM model\n",
    "        model = Sequential()\n",
    "        model.add(LSTM(units=50, activation='relu', input_shape=(X_train_seq.shape[1], X_train_seq.shape[2]), return_sequences=True))\n",
    "        model.add(LSTM(units=50, activation='relu', return_sequences=True))\n",
    "        model.add(LSTM(units=50, activation='relu'))\n",
    "        model.add(Dense(64, activation='relu', kernel_regularizer=l2(0.01)))\n",
    "        model.add(Dense(5, activation='softmax'))\n",
    "\n",
    "        optimizer = Adam(clipvalue=0.5)\n",
    "        model.compile(optimizer=optimizer, loss='categorical_crossentropy', metrics=['accuracy'])\n",
    "\n",
    "        # Train the model\n",
    "        history = model.fit(X_train_seq, y_train_seq, epochs=20, batch_size=32)\n",
    "\n",
    "        return history, model"
   ]
  },
  {
   "cell_type": "code",
   "execution_count": null,
   "metadata": {},
   "outputs": [],
   "source": [
    "lstm_hist, LSTM = create_and_run_LSTM()\n",
    "lstm_pred = test_model(LSTM)\n",
    "evaluate_model(lstm_pred)"
   ]
  },
  {
   "cell_type": "markdown",
   "metadata": {},
   "source": [
    "Bi-LSTMs"
   ]
  },
  {
   "cell_type": "code",
   "execution_count": 3,
   "metadata": {},
   "outputs": [],
   "source": [
    "def create_and_run_BLSTM():\n",
    "        model = Sequential()\n",
    "        model.add(Bidirectional(LSTM(units=50, return_sequences=True), input_shape=(X_train_seq.shape[1], X_train_seq.shape[2])))\n",
    "        #model.add(Dropout(0.2))\n",
    "        model.add(Bidirectional(LSTM(units=50)))\n",
    "        #model.add(Dropout(0.2))\n",
    "        model.add(Dense(units=5, activation='softmax'))\n",
    "\n",
    "        # Compile the model\n",
    "        optimizer = Adam(learning_rate=0.001)\n",
    "        model.compile(optimizer=optimizer, loss='categorical_crossentropy', metrics=['accuracy'])\n",
    "\n",
    "        history = model.fit(X_train_seq, y_train_seq, epochs=20, batch_size=32)\n",
    "\n",
    "        return history, model\n"
   ]
  },
  {
   "cell_type": "code",
   "execution_count": null,
   "metadata": {},
   "outputs": [],
   "source": [
    "bi-lstm_hist, bi-lstm = create_and_run_BLSTM()\n",
    "bi-lstm_pred = test_model(bi-lstm)\n",
    "evaluate_model(bi-lstm_hist)"
   ]
  },
  {
   "cell_type": "markdown",
   "metadata": {},
   "source": [
    "GRUs"
   ]
  },
  {
   "cell_type": "code",
   "execution_count": 1,
   "metadata": {},
   "outputs": [
    {
     "ename": "SyntaxError",
     "evalue": "incomplete input (3248365161.py, line 2)",
     "output_type": "error",
     "traceback": [
      "\u001b[1;36m  Cell \u001b[1;32mIn[1], line 2\u001b[1;36m\u001b[0m\n\u001b[1;33m    \u001b[0m\n\u001b[1;37m    ^\u001b[0m\n\u001b[1;31mSyntaxError\u001b[0m\u001b[1;31m:\u001b[0m incomplete input\n"
     ]
    }
   ],
   "source": [
    "def create_and_run_GRU():\n",
    "    #GRU definition\n",
    "        num_classes = 5\n",
    "        model = Sequential()\n",
    "        model.add(GRU(units=100, input_shape=(X_train_seq.shape[1], X_train_seq.shape[2]), return_sequences=True))\n",
    "        #model.add(Dropout(0.2))\n",
    "        model.add(GRU(units=50, return_sequences=True))\n",
    "        #model.add(Dropout(0.2))\n",
    "        model.add(Flatten())\n",
    "        model.add(Dense(units=64, activation='relu'))\n",
    "        #model.add(Dense(units=64, activation='relu', kernel_regularizer=l2(0.01)))\n",
    "        #model.add(Dropout(0.5))\n",
    "\n",
    "        # Output layer\n",
    "        model.add(Dense(units=num_classes, activation='softmax'))\n",
    "\n",
    "        # Compile the model\n",
    "        optimizer = Adam(learning_rate=0.001)\n",
    "        model.compile(optimizer=optimizer, loss='categorical_crossentropy', metrics=['accuracy'])\n",
    "\n",
    "        history = model.fit(X_train_seq, y_train_seq, epochs=20, batch_size=32)\n",
    "\n",
    "        return history, model\n",
    "\n"
   ]
  },
  {
   "cell_type": "code",
   "execution_count": null,
   "metadata": {},
   "outputs": [],
   "source": [
    "gru_hist, gru = create_and_run_GRU()\n",
    "gru_pred = test_model(gru)\n",
    "evaluate_model(gru_pred)"
   ]
  },
  {
   "cell_type": "markdown",
   "metadata": {},
   "source": []
  }
 ],
 "metadata": {
  "kernelspec": {
   "display_name": "base",
   "language": "python",
   "name": "python3"
  },
  "language_info": {
   "codemirror_mode": {
    "name": "ipython",
    "version": 3
   },
   "file_extension": ".py",
   "mimetype": "text/x-python",
   "name": "python",
   "nbconvert_exporter": "python",
   "pygments_lexer": "ipython3",
   "version": "3.11.4"
  },
  "orig_nbformat": 4
 },
 "nbformat": 4,
 "nbformat_minor": 2
}
